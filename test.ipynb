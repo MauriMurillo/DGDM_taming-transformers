{
 "cells": [
  {
   "cell_type": "code",
   "execution_count": null,
   "metadata": {},
   "outputs": [],
   "source": [
    "\n",
    "import torch\n",
    "import taming.models.vqgan\n"
   ]
  }
 ],
 "metadata": {
  "kernelspec": {
   "display_name": "taming_old",
   "language": "python",
   "name": "python3"
  },
  "language_info": {
   "name": "python",
   "version": "3.8.5"
  }
 },
 "nbformat": 4,
 "nbformat_minor": 2
}
